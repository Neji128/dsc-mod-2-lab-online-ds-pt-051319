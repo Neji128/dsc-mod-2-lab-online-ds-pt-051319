{
 "cells": [
  {
   "cell_type": "markdown",
   "metadata": {},
   "source": [
    "# Module 2 Summative Lab\n",
    "\n",
    "## Introduction\n",
    "\n",
    "For today's section, we're going to work on a single big lab to apply everything we've learned in Module 2!\n",
    "\n",
    "## About This Lab\n",
    "\n",
    "A quick note before getting started--this lab isn't like other labs you seen so far. This lab is meant to take ~8 hours to complete, so it's much longer and more challenging that the average labs you've seen so far. If you feel like this lab is challenging or that you might be struggling a bit, don't fret--that's by design! With everything we've learned about Web Scraping, APIs, and Databases, the best way to test our knowledge of it is to build something substantial! \n",
    "\n",
    "## The Project\n",
    "\n",
    "In this lab, we're going to make use of everything we've learned about APIs, databases, and Object-Oriented Programming to **_Extract, Transform, and Load_** (or **_ETL_**, for short) some data from a SQL database into a MongoDB Database. \n",
    "\n",
    "You'll find a database containing information about soccer teams and the matches they've played in the file `database.sqlite`. For this project, our goal is to get the data we think is important from this SQL database, do some calculations and data transformation, and then store everything in a MongoDB database. \n",
    "\n",
    "Let's get into the specifics of this project.\n",
    "\n",
    "### The Goal\n",
    "\n",
    "Start by examining the data dictionary for the SQL database we'll be working with, which comes from this [kaggle page](https://www.kaggle.com/laudanum/footballdelphi).  Familiarize yourself with the tables it contains, and what each column means. We'll be using this database to get data on each soccer team, calculate some summary statistics, and then store each in a MongoDB database. \n",
    "\n",
    "Upon completion of this lab, each unique team in this dataset should have a record in the MongoDB instance containing the following information:\n",
    "\n",
    "* The name of the team\n",
    "* The total number of goals scored by the team during the 2011 season\n",
    "* The total number of wins the team earned during the 2011 season\n",
    "* A histogram visualization of the team's wins and losses for the 2011 season (store the visualization directly by assigning it to a variable)\n",
    "* The team's win percentage on days where it was raining during games in the 2011 season. \n",
    "\n",
    "#### Getting the Weather Data\n",
    "\n",
    "Note that for this last calculation, you'll need to figure out if it was raining or not during the game. The database itself does not contain this information, but it does contain the date on which the game was played. For this, you'll need to use the [DarkSky API](https://darksky.net/dev) to get the historical weather data for that day. Note that each game is played in a different location, and this information is not contained in our SQL database. However, the teams in this database are largely german, so go ahead and just use the weather in Berlin, Germany as a proxy for this information. If it was raining in Berlin on the day the game was played, count that as rain game--**_you do not need to try and figure out the actual weather at each game's location, because we don't have that information!_**\n",
    "\n",
    "#### NOTE: The DarkSky API is limited to 1000 free API calls a day, so be sure to test your model on very small samples. Otherwise, you'll hit the rate limit!\n",
    "\n",
    "## Project Architecture\n",
    "\n",
    "Unlike previous labs, this lab is more open-ended, and will require you to make design decisions and plan out your strategy for building a system with this many working parts. However, **_using Object-Oriented Programming is a requirement for this project--you must create at least 2 separate, well structured classes in your solution!_** Although it may seem easier to \"just start coding\", this is a classic beginner's mistake. Instead, think about separating out the different functionalities you'll need to reach your goal, and then build classes to handle each. For instance, at minimum, you'll need to:\n",
    "\n",
    "* Query the SQL database\n",
    "* Calculate summary statistics\n",
    "* Get the weather data from the DarkSky API\n",
    "* Load the data into MongoDB\n",
    "\n",
    "We **_strongly recommend_** you consider creating separate classes for handling at least some of these of these tasks.  Be sure to plan the inputs, outputs, and methods for each class before you begin coding! \n",
    "\n",
    "**_NOTE:_** We have provided some empty classes below. You are welcome to delete them and use a different architecture for this project if you so choose.  You do not have to use each of them, they are just there to give you an idea of what you could sorts of classes you may want to consider using.\n",
    "\n",
    "### Rapid Prototyping and Refactoring\n",
    "\n",
    "It's totally okay to try to get a task working without using OOP. For instance, when experimenting with the DarkSky API for getting historical weather data, it makes sense to just write the code in the cells and rapidly iterate until you get it all working. However, once you get it working, you're not done--you should then **_Refactor_** your code into functions or classes to make your code more modular, reusable, understandable, and maintainable! \n",
    "\n",
    "In short--do what you need to do to get each separate piece of functionality working, and then refactor it into a class after you've figured it out!\n",
    "\n",
    "### Some Final Advice\n",
    "\n",
    "You haven't built anything this big or complex thus far, so you may not yet fully realize how much trial and error goes into it. If your code keeps breaking, resist the urge to get frustrated, and just keep working. Software development is an iterative process!  No one writes perfect code that works the first time for something this involved. You're going to run into _a lot_ of small errors in this project, right up until the point where it just works, and then you're done! However, you can reduce these errors by planning out your code, and thinking about how all of the pieces fit together before you begin coding. Once you have some basic understanding of how it all will work, then you'll know what you need to build, and then all that is left is to build it!\n",
    "\n",
    "In short:\n",
    "\n",
    "* Plan ahead--you'll thank yourself later!\n",
    "* Errors and broken code aren't bad, they're normal. \n",
    "* Keep working, and stay confident--you can do this!\n",
    "\n",
    "Good luck--we look forward to seeing your completed project!"
   ]
  },
  {
   "cell_type": "code",
   "execution_count": 1,
   "metadata": {},
   "outputs": [],
   "source": [
    "import sqlite3 \n",
    "conn = sqlite3.connect('database.sqlite')\n",
    "cur = conn.cursor()\n",
    "import pandas as pd\n",
    "import json\n",
    "import pymongo\n",
    "import numpy as np\n",
    "import requests"
   ]
  },
  {
   "cell_type": "code",
   "execution_count": 2,
   "metadata": {},
   "outputs": [],
   "source": [
    "def get_keys(path):\n",
    "    with open(path) as f:\n",
    "        return json.load(f)\n",
    "keys = get_keys(\"/Users/Desmond/.secret/Dark_Sky_Key.json\")\n",
    "api_key = keys['api_key']"
   ]
  },
  {
   "cell_type": "code",
   "execution_count": 16,
   "metadata": {},
   "outputs": [],
   "source": [
    "# You don't have to use these classes, but we recommend them as a good place to start!\n",
    "class WeatherGetter():\n",
    "    \n",
    "    def __init__(self):\n",
    "        self.secret_key = api_key\n",
    "        self.berlin_lat = \"52.5200\"\n",
    "        self.berlin_long = \"13.4050\"\n",
    "        self.url_base = \"https://api.darksky.net/forecast\"\n",
    "        self.exclude = 'currently, flags, minutely, hourly, alerts'\n",
    "        \n",
    "    def get_weather_for_date(self, datetime_string, verbose=True):\n",
    "        year, month, day = self.format_datetime(datetime_string)\n",
    "        datetime = \"{}-{}-{}T12:00:00\".format(year, month, day)\n",
    "        full_url = \"{}/{}/{},{},{}?exclude={}\".format(self.url_base, self.secret_key, \n",
    "                                                     self.berlin_lat, self.berlin_long, \n",
    "                                                     datetime, self.exclude)        \n",
    "        response = requests.get(full_url)\n",
    "        if response.status_code == 200:\n",
    "            if verbose:\n",
    "                print(response.status_code)\n",
    "            return response\n",
    "        else: \n",
    "            raise ValueError(\"Error getting data: Response Code {}\".format(response.status_code))\n",
    "    \n",
    "    def raining(self, response, verbose=True):\n",
    "        data = json.loads(response.text)\n",
    "        daily = data['daily']\n",
    "        data = daily['data']\n",
    "        data = data[0]\n",
    "        #print(data.keys() == 'icon')\n",
    "        try: \n",
    "            \n",
    "            if data['icon'] == 'rain':\n",
    "                if verbose:\n",
    "                    print(data['icon'])\n",
    "                return True\n",
    "            else: \n",
    "                if verbose:\n",
    "                    print(data['icon'])\n",
    "                return False\n",
    "        except: \n",
    "            pass\n",
    "            \n",
    "        \n",
    "    def format_datetime(self, datetime_string):\n",
    "        year = datetime_string[:4]\n",
    "        month = datetime_string[5:7]\n",
    "        day = datetime_string[8:]\n",
    "        \n",
    "        return year, month, day\n",
    "    \n",
    "    def did_rain_on_date(self, datetime_string):\n",
    "        \n",
    "        response = self.get_weather_for_date(datetime_string, verbose=False)\n",
    "        did_rain = self.raining(response, verbose=False)\n",
    "        \n",
    "        return did_rain\n",
    "        \n",
    "    def get_weather_for_all_dates(self, dates_list):\n",
    "        \n",
    "        weather_dict = {}\n",
    "        \n",
    "        for date in dates_list:\n",
    "            weather_dict[date] = self.did_rain_on_date(date)\n",
    "        \n",
    "        return weather_dict"
   ]
  },
  {
   "cell_type": "code",
   "execution_count": 17,
   "metadata": {},
   "outputs": [
    {
     "data": {
      "text/plain": [
       "False"
      ]
     },
     "execution_count": 17,
     "metadata": {},
     "output_type": "execute_result"
    }
   ],
   "source": [
    "wg = WeatherGetter()\n",
    "wg.did_rain_on_date('2019-01-03')"
   ]
  },
  {
   "cell_type": "code",
   "execution_count": 19,
   "metadata": {},
   "outputs": [
    {
     "data": {
      "text/html": [
       "<div>\n",
       "<style scoped>\n",
       "    .dataframe tbody tr th:only-of-type {\n",
       "        vertical-align: middle;\n",
       "    }\n",
       "\n",
       "    .dataframe tbody tr th {\n",
       "        vertical-align: top;\n",
       "    }\n",
       "\n",
       "    .dataframe thead th {\n",
       "        text-align: right;\n",
       "    }\n",
       "</style>\n",
       "<table border=\"1\" class=\"dataframe\">\n",
       "  <thead>\n",
       "    <tr style=\"text-align: right;\">\n",
       "      <th></th>\n",
       "      <th>Match_ID</th>\n",
       "      <th>Div</th>\n",
       "      <th>Season</th>\n",
       "      <th>Date</th>\n",
       "      <th>HomeTeam</th>\n",
       "      <th>AwayTeam</th>\n",
       "      <th>FTHG</th>\n",
       "      <th>FTAG</th>\n",
       "      <th>FTR</th>\n",
       "    </tr>\n",
       "  </thead>\n",
       "  <tbody>\n",
       "    <tr>\n",
       "      <th>0</th>\n",
       "      <td>1092</td>\n",
       "      <td>D1</td>\n",
       "      <td>2011</td>\n",
       "      <td>2012-03-31</td>\n",
       "      <td>Nurnberg</td>\n",
       "      <td>Bayern Munich</td>\n",
       "      <td>0</td>\n",
       "      <td>1</td>\n",
       "      <td>A</td>\n",
       "    </tr>\n",
       "    <tr>\n",
       "      <th>1</th>\n",
       "      <td>1093</td>\n",
       "      <td>D1</td>\n",
       "      <td>2011</td>\n",
       "      <td>2011-12-11</td>\n",
       "      <td>Stuttgart</td>\n",
       "      <td>Bayern Munich</td>\n",
       "      <td>1</td>\n",
       "      <td>2</td>\n",
       "      <td>A</td>\n",
       "    </tr>\n",
       "    <tr>\n",
       "      <th>2</th>\n",
       "      <td>1094</td>\n",
       "      <td>D1</td>\n",
       "      <td>2011</td>\n",
       "      <td>2011-08-13</td>\n",
       "      <td>Wolfsburg</td>\n",
       "      <td>Bayern Munich</td>\n",
       "      <td>0</td>\n",
       "      <td>1</td>\n",
       "      <td>A</td>\n",
       "    </tr>\n",
       "    <tr>\n",
       "      <th>3</th>\n",
       "      <td>1095</td>\n",
       "      <td>D1</td>\n",
       "      <td>2011</td>\n",
       "      <td>2011-11-27</td>\n",
       "      <td>Mainz</td>\n",
       "      <td>Bayern Munich</td>\n",
       "      <td>3</td>\n",
       "      <td>2</td>\n",
       "      <td>H</td>\n",
       "    </tr>\n",
       "    <tr>\n",
       "      <th>4</th>\n",
       "      <td>1096</td>\n",
       "      <td>D1</td>\n",
       "      <td>2011</td>\n",
       "      <td>2012-02-18</td>\n",
       "      <td>Freiburg</td>\n",
       "      <td>Bayern Munich</td>\n",
       "      <td>0</td>\n",
       "      <td>0</td>\n",
       "      <td>D</td>\n",
       "    </tr>\n",
       "  </tbody>\n",
       "</table>\n",
       "</div>"
      ],
      "text/plain": [
       "   Match_ID Div  Season        Date   HomeTeam       AwayTeam  FTHG  FTAG FTR\n",
       "0      1092  D1    2011  2012-03-31   Nurnberg  Bayern Munich     0     1   A\n",
       "1      1093  D1    2011  2011-12-11  Stuttgart  Bayern Munich     1     2   A\n",
       "2      1094  D1    2011  2011-08-13  Wolfsburg  Bayern Munich     0     1   A\n",
       "3      1095  D1    2011  2011-11-27      Mainz  Bayern Munich     3     2   H\n",
       "4      1096  D1    2011  2012-02-18   Freiburg  Bayern Munich     0     0   D"
      ]
     },
     "execution_count": 19,
     "metadata": {},
     "output_type": "execute_result"
    }
   ],
   "source": [
    "cur.execute(\"\"\"SELECT * from Matches WHERE Season = 2011 \"\"\")\n",
    "matches = pd.DataFrame(cur.fetchall())\n",
    "matches.columns = [i[0] for i in cur.description]\n",
    "matches.head()"
   ]
  },
  {
   "cell_type": "code",
   "execution_count": 25,
   "metadata": {
    "scrolled": false
   },
   "outputs": [
    {
     "ename": "ValueError",
     "evalue": "Error getting data: Response Code 403",
     "output_type": "error",
     "traceback": [
      "\u001b[1;31m---------------------------------------------------------------------------\u001b[0m",
      "\u001b[1;31mValueError\u001b[0m                                Traceback (most recent call last)",
      "\u001b[1;32m<ipython-input-25-7a664a5f9aaa>\u001b[0m in \u001b[0;36m<module>\u001b[1;34m()\u001b[0m\n\u001b[1;32m----> 1\u001b[1;33m \u001b[0mrainy_days\u001b[0m \u001b[1;33m=\u001b[0m \u001b[0mwg\u001b[0m\u001b[1;33m.\u001b[0m\u001b[0mget_weather_for_all_dates\u001b[0m\u001b[1;33m(\u001b[0m\u001b[0munique_dates\u001b[0m\u001b[1;33m)\u001b[0m\u001b[1;33m\u001b[0m\u001b[0m\n\u001b[0m",
      "\u001b[1;32m<ipython-input-16-0b170febc4c8>\u001b[0m in \u001b[0;36mget_weather_for_all_dates\u001b[1;34m(self, dates_list)\u001b[0m\n\u001b[0;32m     62\u001b[0m \u001b[1;33m\u001b[0m\u001b[0m\n\u001b[0;32m     63\u001b[0m         \u001b[1;32mfor\u001b[0m \u001b[0mdate\u001b[0m \u001b[1;32min\u001b[0m \u001b[0mdates_list\u001b[0m\u001b[1;33m:\u001b[0m\u001b[1;33m\u001b[0m\u001b[0m\n\u001b[1;32m---> 64\u001b[1;33m             \u001b[0mweather_dict\u001b[0m\u001b[1;33m[\u001b[0m\u001b[0mdate\u001b[0m\u001b[1;33m]\u001b[0m \u001b[1;33m=\u001b[0m \u001b[0mself\u001b[0m\u001b[1;33m.\u001b[0m\u001b[0mdid_rain_on_date\u001b[0m\u001b[1;33m(\u001b[0m\u001b[0mdate\u001b[0m\u001b[1;33m)\u001b[0m\u001b[1;33m\u001b[0m\u001b[0m\n\u001b[0m\u001b[0;32m     65\u001b[0m \u001b[1;33m\u001b[0m\u001b[0m\n\u001b[0;32m     66\u001b[0m         \u001b[1;32mreturn\u001b[0m \u001b[0mweather_dict\u001b[0m\u001b[1;33m\u001b[0m\u001b[0m\n",
      "\u001b[1;32m<ipython-input-16-0b170febc4c8>\u001b[0m in \u001b[0;36mdid_rain_on_date\u001b[1;34m(self, datetime_string)\u001b[0m\n\u001b[0;32m     52\u001b[0m     \u001b[1;32mdef\u001b[0m \u001b[0mdid_rain_on_date\u001b[0m\u001b[1;33m(\u001b[0m\u001b[0mself\u001b[0m\u001b[1;33m,\u001b[0m \u001b[0mdatetime_string\u001b[0m\u001b[1;33m)\u001b[0m\u001b[1;33m:\u001b[0m\u001b[1;33m\u001b[0m\u001b[0m\n\u001b[0;32m     53\u001b[0m \u001b[1;33m\u001b[0m\u001b[0m\n\u001b[1;32m---> 54\u001b[1;33m         \u001b[0mresponse\u001b[0m \u001b[1;33m=\u001b[0m \u001b[0mself\u001b[0m\u001b[1;33m.\u001b[0m\u001b[0mget_weather_for_date\u001b[0m\u001b[1;33m(\u001b[0m\u001b[0mdatetime_string\u001b[0m\u001b[1;33m,\u001b[0m \u001b[0mverbose\u001b[0m\u001b[1;33m=\u001b[0m\u001b[1;32mFalse\u001b[0m\u001b[1;33m)\u001b[0m\u001b[1;33m\u001b[0m\u001b[0m\n\u001b[0m\u001b[0;32m     55\u001b[0m         \u001b[0mdid_rain\u001b[0m \u001b[1;33m=\u001b[0m \u001b[0mself\u001b[0m\u001b[1;33m.\u001b[0m\u001b[0mraining\u001b[0m\u001b[1;33m(\u001b[0m\u001b[0mresponse\u001b[0m\u001b[1;33m,\u001b[0m \u001b[0mverbose\u001b[0m\u001b[1;33m=\u001b[0m\u001b[1;32mFalse\u001b[0m\u001b[1;33m)\u001b[0m\u001b[1;33m\u001b[0m\u001b[0m\n\u001b[0;32m     56\u001b[0m \u001b[1;33m\u001b[0m\u001b[0m\n",
      "\u001b[1;32m<ipython-input-16-0b170febc4c8>\u001b[0m in \u001b[0;36mget_weather_for_date\u001b[1;34m(self, datetime_string, verbose)\u001b[0m\n\u001b[0;32m     21\u001b[0m             \u001b[1;32mreturn\u001b[0m \u001b[0mresponse\u001b[0m\u001b[1;33m\u001b[0m\u001b[0m\n\u001b[0;32m     22\u001b[0m         \u001b[1;32melse\u001b[0m\u001b[1;33m:\u001b[0m\u001b[1;33m\u001b[0m\u001b[0m\n\u001b[1;32m---> 23\u001b[1;33m             \u001b[1;32mraise\u001b[0m \u001b[0mValueError\u001b[0m\u001b[1;33m(\u001b[0m\u001b[1;34m\"Error getting data: Response Code {}\"\u001b[0m\u001b[1;33m.\u001b[0m\u001b[0mformat\u001b[0m\u001b[1;33m(\u001b[0m\u001b[0mresponse\u001b[0m\u001b[1;33m.\u001b[0m\u001b[0mstatus_code\u001b[0m\u001b[1;33m)\u001b[0m\u001b[1;33m)\u001b[0m\u001b[1;33m\u001b[0m\u001b[0m\n\u001b[0m\u001b[0;32m     24\u001b[0m \u001b[1;33m\u001b[0m\u001b[0m\n\u001b[0;32m     25\u001b[0m     \u001b[1;32mdef\u001b[0m \u001b[0mraining\u001b[0m\u001b[1;33m(\u001b[0m\u001b[0mself\u001b[0m\u001b[1;33m,\u001b[0m \u001b[0mresponse\u001b[0m\u001b[1;33m,\u001b[0m \u001b[0mverbose\u001b[0m\u001b[1;33m=\u001b[0m\u001b[1;32mTrue\u001b[0m\u001b[1;33m)\u001b[0m\u001b[1;33m:\u001b[0m\u001b[1;33m\u001b[0m\u001b[0m\n",
      "\u001b[1;31mValueError\u001b[0m: Error getting data: Response Code 403"
     ]
    }
   ],
   "source": [
    "rainy_days = wg.get_weather_for_all_dates(unique_dates)"
   ]
  },
  {
   "cell_type": "code",
   "execution_count": 26,
   "metadata": {},
   "outputs": [
    {
     "data": {
      "text/html": [
       "<div>\n",
       "<style scoped>\n",
       "    .dataframe tbody tr th:only-of-type {\n",
       "        vertical-align: middle;\n",
       "    }\n",
       "\n",
       "    .dataframe tbody tr th {\n",
       "        vertical-align: top;\n",
       "    }\n",
       "\n",
       "    .dataframe thead th {\n",
       "        text-align: right;\n",
       "    }\n",
       "</style>\n",
       "<table border=\"1\" class=\"dataframe\">\n",
       "  <thead>\n",
       "    <tr style=\"text-align: right;\">\n",
       "      <th></th>\n",
       "      <th>Match_ID</th>\n",
       "      <th>Div</th>\n",
       "      <th>Season</th>\n",
       "      <th>Date</th>\n",
       "      <th>HomeTeam</th>\n",
       "      <th>AwayTeam</th>\n",
       "      <th>FTHG</th>\n",
       "      <th>FTAG</th>\n",
       "      <th>FTR</th>\n",
       "      <th>Rain_Game</th>\n",
       "    </tr>\n",
       "  </thead>\n",
       "  <tbody>\n",
       "    <tr>\n",
       "      <th>0</th>\n",
       "      <td>1092</td>\n",
       "      <td>D1</td>\n",
       "      <td>2011</td>\n",
       "      <td>2012-03-31</td>\n",
       "      <td>Nurnberg</td>\n",
       "      <td>Bayern Munich</td>\n",
       "      <td>0</td>\n",
       "      <td>1</td>\n",
       "      <td>A</td>\n",
       "      <td>True</td>\n",
       "    </tr>\n",
       "    <tr>\n",
       "      <th>1</th>\n",
       "      <td>1093</td>\n",
       "      <td>D1</td>\n",
       "      <td>2011</td>\n",
       "      <td>2011-12-11</td>\n",
       "      <td>Stuttgart</td>\n",
       "      <td>Bayern Munich</td>\n",
       "      <td>1</td>\n",
       "      <td>2</td>\n",
       "      <td>A</td>\n",
       "      <td>False</td>\n",
       "    </tr>\n",
       "    <tr>\n",
       "      <th>2</th>\n",
       "      <td>1094</td>\n",
       "      <td>D1</td>\n",
       "      <td>2011</td>\n",
       "      <td>2011-08-13</td>\n",
       "      <td>Wolfsburg</td>\n",
       "      <td>Bayern Munich</td>\n",
       "      <td>0</td>\n",
       "      <td>1</td>\n",
       "      <td>A</td>\n",
       "      <td>False</td>\n",
       "    </tr>\n",
       "    <tr>\n",
       "      <th>3</th>\n",
       "      <td>1095</td>\n",
       "      <td>D1</td>\n",
       "      <td>2011</td>\n",
       "      <td>2011-11-27</td>\n",
       "      <td>Mainz</td>\n",
       "      <td>Bayern Munich</td>\n",
       "      <td>3</td>\n",
       "      <td>2</td>\n",
       "      <td>H</td>\n",
       "      <td>False</td>\n",
       "    </tr>\n",
       "    <tr>\n",
       "      <th>4</th>\n",
       "      <td>1096</td>\n",
       "      <td>D1</td>\n",
       "      <td>2011</td>\n",
       "      <td>2012-02-18</td>\n",
       "      <td>Freiburg</td>\n",
       "      <td>Bayern Munich</td>\n",
       "      <td>0</td>\n",
       "      <td>0</td>\n",
       "      <td>D</td>\n",
       "      <td>False</td>\n",
       "    </tr>\n",
       "  </tbody>\n",
       "</table>\n",
       "</div>"
      ],
      "text/plain": [
       "   Match_ID Div  Season        Date   HomeTeam       AwayTeam  FTHG  FTAG FTR  \\\n",
       "0      1092  D1    2011  2012-03-31   Nurnberg  Bayern Munich     0     1   A   \n",
       "1      1093  D1    2011  2011-12-11  Stuttgart  Bayern Munich     1     2   A   \n",
       "2      1094  D1    2011  2011-08-13  Wolfsburg  Bayern Munich     0     1   A   \n",
       "3      1095  D1    2011  2011-11-27      Mainz  Bayern Munich     3     2   H   \n",
       "4      1096  D1    2011  2012-02-18   Freiburg  Bayern Munich     0     0   D   \n",
       "\n",
       "  Rain_Game  \n",
       "0      True  \n",
       "1     False  \n",
       "2     False  \n",
       "3     False  \n",
       "4     False  "
      ]
     },
     "execution_count": 26,
     "metadata": {},
     "output_type": "execute_result"
    }
   ],
   "source": [
    "rain_game = []\n",
    "for date in matches.Date:\n",
    "    rain_game.append(rainy_days[date])\n",
    "\n",
    "matches['Rain_Game'] = rain_game\n",
    "matches.head()"
   ]
  },
  {
   "cell_type": "code",
   "execution_count": 27,
   "metadata": {},
   "outputs": [],
   "source": [
    "class MongodbHandler():\n",
    "    def __init__(self):\n",
    "                \n",
    "        self.myclient = pymongo.MongoClient('mongodb://localhost:27017')\n",
    "        self.db = self.myclient['section_16_lab_db']\n",
    "        self.coll = self.db['section_16_lab_collection']\n",
    "    \n",
    "    def format_data(self, team_name, goals_2011, wins_2011, viz, rain_win_pct):\n",
    "        data = {\"team_name\": team_name,\n",
    "               \"goals_2011\": goals_2011,\n",
    "               \"wins_2011\": wins_2011,\n",
    "               \"win_loss_histogram\": viz,\n",
    "               \"rain_win_pct\": rain_win_pct}\n",
    "        \n",
    "        return data\n",
    "    \n",
    "    def insert_record(self, record):\n",
    "        \n",
    "        return self.coll.insert_one(data)"
   ]
  },
  {
   "cell_type": "code",
   "execution_count": 28,
   "metadata": {
    "scrolled": true
   },
   "outputs": [
    {
     "data": {
      "text/plain": [
       "165"
      ]
     },
     "execution_count": 28,
     "metadata": {},
     "output_type": "execute_result"
    }
   ],
   "source": [
    "#unique dates games were played on in 2011\n",
    "unique_dates = matches.Date.unique()\n",
    "len(unique_dates)"
   ]
  },
  {
   "cell_type": "code",
   "execution_count": 29,
   "metadata": {},
   "outputs": [
    {
     "name": "stdout",
     "output_type": "stream",
     "text": [
      "Unique Teams: 56\n",
      "56\n"
     ]
    }
   ],
   "source": [
    "all_teams = matches['HomeTeam'].unique()\n",
    "print(\"Unique Teams: {}\".format(len(all_teams)))\n",
    "teams_data = {}\n",
    "for team in all_teams:\n",
    "    data = {'total_matches_2011': 0, \n",
    "           'total_wins_2011': 0,\n",
    "           'total_losses_2011': 0,\n",
    "           'rain_wins_2011': 0,\n",
    "           'rain_losses_2011': 0,\n",
    "           'total_goals_2011': 0}\n",
    "    teams_data[team] = data\n",
    "print(len(teams_data))"
   ]
  },
  {
   "cell_type": "code",
   "execution_count": 30,
   "metadata": {},
   "outputs": [
    {
     "data": {
      "text/plain": [
       "array(['Nurnberg', 'Stuttgart', 'Wolfsburg', 'Mainz', 'Freiburg',\n",
       "       \"M'gladbach\", 'Hamburg', 'Werder Bremen', 'Schalke 04', 'Hannover',\n",
       "       'Hoffenheim', 'Leverkusen', 'Kaiserslautern', 'Hertha', 'Augsburg',\n",
       "       'FC Koln', 'Dortmund', 'Bayern Munich', 'Hansa Rostock', 'Bochum',\n",
       "       'Ein Frankfurt', 'Paderborn', 'Greuther Furth',\n",
       "       'Fortuna Dusseldorf', 'Ingolstadt', 'Cottbus', 'St Pauli',\n",
       "       'Frankfurt FSV', 'Union Berlin', 'Munich 1860', 'Aachen',\n",
       "       'Karlsruhe', 'Braunschweig', 'Erzgebirge Aue', 'Duisburg',\n",
       "       'Dresden', 'Blackburn', 'Fulham', 'Liverpool', 'Newcastle', 'QPR',\n",
       "       'Wigan', 'Stoke', 'West Brom', 'Man City', 'Arsenal',\n",
       "       'Aston Villa', 'Chelsea', 'Everton', 'Sunderland', 'Swansea',\n",
       "       'Bolton', 'Norwich', 'Wolves', 'Man United', 'Tottenham'],\n",
       "      dtype=object)"
      ]
     },
     "execution_count": 30,
     "metadata": {},
     "output_type": "execute_result"
    }
   ],
   "source": [
    "all_teams"
   ]
  },
  {
   "cell_type": "code",
   "execution_count": 31,
   "metadata": {},
   "outputs": [],
   "source": [
    "def update_team_data(row):\n",
    "    # Get goal and win data from row\n",
    "    home_team = row['HomeTeam']\n",
    "    away_team = row['AwayTeam']\n",
    "    home_goals = row['FTHG']\n",
    "    away_goals = row['FTAG']\n",
    "    datetime = row['Date']\n",
    "    year = datetime[:4]\n",
    "    home_did_win = False\n",
    "    away_did_win = False\n",
    "    \n",
    "    is_rain_game = row['Rain_Game']\n",
    "    \n",
    "    if row['FTR'] == 'H':            \n",
    "        home_did_win = True\n",
    "        away_did_win = False\n",
    "    elif row['FTR'] == 'A':          \n",
    "        home_did_win = False\n",
    "        away_did_win = True\n",
    "    else:                            \n",
    "        home_did_win = False\n",
    "        away_did_win = False\n",
    "    \n",
    "    update_team_win_loss_record(home_team, home_goals, home_did_win, year, is_rain_game)\n",
    "    \n",
    "    update_team_win_loss_record(away_team, away_goals, away_did_win, year, is_rain_game)\n",
    "    \n",
    "def update_team_win_loss_record(team_name, goals, did_win, year, is_rain_game):\n",
    "    team = teams_data[team_name]\n",
    "    team['total_matches_2011'] += 1\n",
    "    if did_win == True:\n",
    "        team['total_wins_2011'] += 1\n",
    "        if is_rain_game == True:\n",
    "            team['rain_wins_2011'] += 1\n",
    "    else:\n",
    "        team['total_losses_2011'] += 1\n",
    "        team['rain_losses_2011'] += 1\n",
    "    team['total_goals_2011'] += goals"
   ]
  },
  {
   "cell_type": "code",
   "execution_count": 33,
   "metadata": {},
   "outputs": [
    {
     "name": "stdout",
     "output_type": "stream",
     "text": [
      "0\n",
      "0\n",
      "(array([0., 0., 0., 0., 0., 0., 0., 0., 0., 0.]), array([0. , 0.1, 0.2, 0.3, 0.4, 0.5, 0.6, 0.7, 0.8, 0.9, 1. ]), <a list of 10 Patch objects>)\n"
     ]
    },
    {
     "data": {
      "image/png": "[encoded data removed]",
      "text/plain": [
       "<Figure size 432x288 with 1 Axes>"
      ]
     },
     "metadata": {
      "needs_background": "light"
     },
     "output_type": "display_data"
    }
   ],
   "source": [
    "import matplotlib.pyplot as plt\n",
    "%matplotlib inline\n",
    "\n",
    "def get_hist(team, show_viz=False):\n",
    "    expanded_wl_data = []\n",
    "    print(team['total_wins_2011'])\n",
    "    print(team['total_losses_2011'])\n",
    "    for i in range(team['total_wins_2011']):\n",
    "        expanded_wl_data.append('Win')\n",
    "    for i in range(team['total_losses_2011']):\n",
    "        expanded_wl_data.append('Loss')\n",
    "    hist = plt.hist(expanded_wl_data)\n",
    "    \n",
    "    if show_viz:\n",
    "        plt.show()\n",
    "    \n",
    "    return hist\n",
    "\n",
    "print(get_hist(teams_data['Nurnberg']))"
   ]
  },
  {
   "cell_type": "code",
   "execution_count": 34,
   "metadata": {},
   "outputs": [
    {
     "name": "stdout",
     "output_type": "stream",
     "text": [
      "0\n",
      "0\n"
     ]
    },
    {
     "ename": "ServerSelectionTimeoutError",
     "evalue": "localhost:27017: [WinError 10061] No connection could be made because the target machine actively refused it",
     "output_type": "error",
     "traceback": [
      "\u001b[1;31m---------------------------------------------------------------------------\u001b[0m",
      "\u001b[1;31mServerSelectionTimeoutError\u001b[0m               Traceback (most recent call last)",
      "\u001b[1;32m<ipython-input-34-362358c2bf54>\u001b[0m in \u001b[0;36m<module>\u001b[1;34m()\u001b[0m\n\u001b[0;32m     12\u001b[0m \u001b[1;33m\u001b[0m\u001b[0m\n\u001b[0;32m     13\u001b[0m     \u001b[0mrecord\u001b[0m \u001b[1;33m=\u001b[0m \u001b[0mdb\u001b[0m\u001b[1;33m.\u001b[0m\u001b[0mformat_data\u001b[0m\u001b[1;33m(\u001b[0m\u001b[0mteam_name\u001b[0m\u001b[1;33m,\u001b[0m \u001b[0mdata\u001b[0m\u001b[1;33m[\u001b[0m\u001b[1;34m'total_goals_2011'\u001b[0m\u001b[1;33m]\u001b[0m\u001b[1;33m,\u001b[0m \u001b[0mdata\u001b[0m\u001b[1;33m[\u001b[0m\u001b[1;34m'total_wins_2011'\u001b[0m\u001b[1;33m]\u001b[0m\u001b[1;33m,\u001b[0m \u001b[0mviz\u001b[0m\u001b[1;33m,\u001b[0m \u001b[0mrain_win_pct\u001b[0m\u001b[1;33m)\u001b[0m\u001b[1;33m\u001b[0m\u001b[0m\n\u001b[1;32m---> 14\u001b[1;33m     \u001b[0mdb\u001b[0m\u001b[1;33m.\u001b[0m\u001b[0minsert_record\u001b[0m\u001b[1;33m(\u001b[0m\u001b[0mrecord\u001b[0m\u001b[1;33m)\u001b[0m\u001b[1;33m\u001b[0m\u001b[0m\n\u001b[0m\u001b[0;32m     15\u001b[0m \u001b[1;33m\u001b[0m\u001b[0m\n\u001b[0;32m     16\u001b[0m     \u001b[1;32mdel\u001b[0m\u001b[1;33m(\u001b[0m\u001b[0mviz\u001b[0m\u001b[1;33m)\u001b[0m\u001b[1;33m\u001b[0m\u001b[0m\n",
      "\u001b[1;32m<ipython-input-27-2742f706273d>\u001b[0m in \u001b[0;36minsert_record\u001b[1;34m(self, record)\u001b[0m\n\u001b[0;32m     17\u001b[0m     \u001b[1;32mdef\u001b[0m \u001b[0minsert_record\u001b[0m\u001b[1;33m(\u001b[0m\u001b[0mself\u001b[0m\u001b[1;33m,\u001b[0m \u001b[0mrecord\u001b[0m\u001b[1;33m)\u001b[0m\u001b[1;33m:\u001b[0m\u001b[1;33m\u001b[0m\u001b[0m\n\u001b[0;32m     18\u001b[0m \u001b[1;33m\u001b[0m\u001b[0m\n\u001b[1;32m---> 19\u001b[1;33m         \u001b[1;32mreturn\u001b[0m \u001b[0mself\u001b[0m\u001b[1;33m.\u001b[0m\u001b[0mcoll\u001b[0m\u001b[1;33m.\u001b[0m\u001b[0minsert_one\u001b[0m\u001b[1;33m(\u001b[0m\u001b[0mdata\u001b[0m\u001b[1;33m)\u001b[0m\u001b[1;33m\u001b[0m\u001b[0m\n\u001b[0m",
      "\u001b[1;32m~\\Anaconda3\\envs\\learn-env\\lib\\site-packages\\pymongo\\collection.py\u001b[0m in \u001b[0;36minsert_one\u001b[1;34m(self, document, bypass_document_validation, session)\u001b[0m\n\u001b[0;32m    698\u001b[0m                          \u001b[0mwrite_concern\u001b[0m\u001b[1;33m=\u001b[0m\u001b[0mwrite_concern\u001b[0m\u001b[1;33m,\u001b[0m\u001b[1;33m\u001b[0m\u001b[0m\n\u001b[0;32m    699\u001b[0m                          \u001b[0mbypass_doc_val\u001b[0m\u001b[1;33m=\u001b[0m\u001b[0mbypass_document_validation\u001b[0m\u001b[1;33m,\u001b[0m\u001b[1;33m\u001b[0m\u001b[0m\n\u001b[1;32m--> 700\u001b[1;33m                          session=session),\n\u001b[0m\u001b[0;32m    701\u001b[0m             write_concern.acknowledged)\n\u001b[0;32m    702\u001b[0m \u001b[1;33m\u001b[0m\u001b[0m\n",
      "\u001b[1;32m~\\Anaconda3\\envs\\learn-env\\lib\\site-packages\\pymongo\\collection.py\u001b[0m in \u001b[0;36m_insert\u001b[1;34m(self, docs, ordered, check_keys, manipulate, write_concern, op_id, bypass_doc_val, session)\u001b[0m\n\u001b[0;32m    612\u001b[0m             return self._insert_one(\n\u001b[0;32m    613\u001b[0m                 \u001b[0mdocs\u001b[0m\u001b[1;33m,\u001b[0m \u001b[0mordered\u001b[0m\u001b[1;33m,\u001b[0m \u001b[0mcheck_keys\u001b[0m\u001b[1;33m,\u001b[0m \u001b[0mmanipulate\u001b[0m\u001b[1;33m,\u001b[0m \u001b[0mwrite_concern\u001b[0m\u001b[1;33m,\u001b[0m \u001b[0mop_id\u001b[0m\u001b[1;33m,\u001b[0m\u001b[1;33m\u001b[0m\u001b[0m\n\u001b[1;32m--> 614\u001b[1;33m                 bypass_doc_val, session)\n\u001b[0m\u001b[0;32m    615\u001b[0m \u001b[1;33m\u001b[0m\u001b[0m\n\u001b[0;32m    616\u001b[0m         \u001b[0mids\u001b[0m \u001b[1;33m=\u001b[0m \u001b[1;33m[\u001b[0m\u001b[1;33m]\u001b[0m\u001b[1;33m\u001b[0m\u001b[0m\n",
      "\u001b[1;32m~\\Anaconda3\\envs\\learn-env\\lib\\site-packages\\pymongo\\collection.py\u001b[0m in \u001b[0;36m_insert_one\u001b[1;34m(self, doc, ordered, check_keys, manipulate, write_concern, op_id, bypass_doc_val, session)\u001b[0m\n\u001b[0;32m    600\u001b[0m \u001b[1;33m\u001b[0m\u001b[0m\n\u001b[0;32m    601\u001b[0m         self.__database.client._retryable_write(\n\u001b[1;32m--> 602\u001b[1;33m             acknowledged, _insert_command, session)\n\u001b[0m\u001b[0;32m    603\u001b[0m \u001b[1;33m\u001b[0m\u001b[0m\n\u001b[0;32m    604\u001b[0m         \u001b[1;32mif\u001b[0m \u001b[1;32mnot\u001b[0m \u001b[0misinstance\u001b[0m\u001b[1;33m(\u001b[0m\u001b[0mdoc\u001b[0m\u001b[1;33m,\u001b[0m \u001b[0mRawBSONDocument\u001b[0m\u001b[1;33m)\u001b[0m\u001b[1;33m:\u001b[0m\u001b[1;33m\u001b[0m\u001b[0m\n",
      "\u001b[1;32m~\\Anaconda3\\envs\\learn-env\\lib\\site-packages\\pymongo\\mongo_client.py\u001b[0m in \u001b[0;36m_retryable_write\u001b[1;34m(self, retryable, func, session)\u001b[0m\n\u001b[0;32m   1277\u001b[0m     \u001b[1;32mdef\u001b[0m \u001b[0m_retryable_write\u001b[0m\u001b[1;33m(\u001b[0m\u001b[0mself\u001b[0m\u001b[1;33m,\u001b[0m \u001b[0mretryable\u001b[0m\u001b[1;33m,\u001b[0m \u001b[0mfunc\u001b[0m\u001b[1;33m,\u001b[0m \u001b[0msession\u001b[0m\u001b[1;33m)\u001b[0m\u001b[1;33m:\u001b[0m\u001b[1;33m\u001b[0m\u001b[0m\n\u001b[0;32m   1278\u001b[0m         \u001b[1;34m\"\"\"Internal retryable write helper.\"\"\"\u001b[0m\u001b[1;33m\u001b[0m\u001b[0m\n\u001b[1;32m-> 1279\u001b[1;33m         \u001b[1;32mwith\u001b[0m \u001b[0mself\u001b[0m\u001b[1;33m.\u001b[0m\u001b[0m_tmp_session\u001b[0m\u001b[1;33m(\u001b[0m\u001b[0msession\u001b[0m\u001b[1;33m)\u001b[0m \u001b[1;32mas\u001b[0m \u001b[0ms\u001b[0m\u001b[1;33m:\u001b[0m\u001b[1;33m\u001b[0m\u001b[0m\n\u001b[0m\u001b[0;32m   1280\u001b[0m             \u001b[1;32mreturn\u001b[0m \u001b[0mself\u001b[0m\u001b[1;33m.\u001b[0m\u001b[0m_retry_with_session\u001b[0m\u001b[1;33m(\u001b[0m\u001b[0mretryable\u001b[0m\u001b[1;33m,\u001b[0m \u001b[0mfunc\u001b[0m\u001b[1;33m,\u001b[0m \u001b[0ms\u001b[0m\u001b[1;33m,\u001b[0m \u001b[1;32mNone\u001b[0m\u001b[1;33m)\u001b[0m\u001b[1;33m\u001b[0m\u001b[0m\n\u001b[0;32m   1281\u001b[0m \u001b[1;33m\u001b[0m\u001b[0m\n",
      "\u001b[1;32m~\\Anaconda3\\envs\\learn-env\\lib\\contextlib.py\u001b[0m in \u001b[0;36m__enter__\u001b[1;34m(self)\u001b[0m\n\u001b[0;32m     79\u001b[0m     \u001b[1;32mdef\u001b[0m \u001b[0m__enter__\u001b[0m\u001b[1;33m(\u001b[0m\u001b[0mself\u001b[0m\u001b[1;33m)\u001b[0m\u001b[1;33m:\u001b[0m\u001b[1;33m\u001b[0m\u001b[0m\n\u001b[0;32m     80\u001b[0m         \u001b[1;32mtry\u001b[0m\u001b[1;33m:\u001b[0m\u001b[1;33m\u001b[0m\u001b[0m\n\u001b[1;32m---> 81\u001b[1;33m             \u001b[1;32mreturn\u001b[0m \u001b[0mnext\u001b[0m\u001b[1;33m(\u001b[0m\u001b[0mself\u001b[0m\u001b[1;33m.\u001b[0m\u001b[0mgen\u001b[0m\u001b[1;33m)\u001b[0m\u001b[1;33m\u001b[0m\u001b[0m\n\u001b[0m\u001b[0;32m     82\u001b[0m         \u001b[1;32mexcept\u001b[0m \u001b[0mStopIteration\u001b[0m\u001b[1;33m:\u001b[0m\u001b[1;33m\u001b[0m\u001b[0m\n\u001b[0;32m     83\u001b[0m             \u001b[1;32mraise\u001b[0m \u001b[0mRuntimeError\u001b[0m\u001b[1;33m(\u001b[0m\u001b[1;34m\"generator didn't yield\"\u001b[0m\u001b[1;33m)\u001b[0m \u001b[1;32mfrom\u001b[0m \u001b[1;32mNone\u001b[0m\u001b[1;33m\u001b[0m\u001b[0m\n",
      "\u001b[1;32m~\\Anaconda3\\envs\\learn-env\\lib\\site-packages\\pymongo\\mongo_client.py\u001b[0m in \u001b[0;36m_tmp_session\u001b[1;34m(self, session, close)\u001b[0m\n\u001b[0;32m   1609\u001b[0m             \u001b[1;32mreturn\u001b[0m\u001b[1;33m\u001b[0m\u001b[0m\n\u001b[0;32m   1610\u001b[0m \u001b[1;33m\u001b[0m\u001b[0m\n\u001b[1;32m-> 1611\u001b[1;33m         \u001b[0ms\u001b[0m \u001b[1;33m=\u001b[0m \u001b[0mself\u001b[0m\u001b[1;33m.\u001b[0m\u001b[0m_ensure_session\u001b[0m\u001b[1;33m(\u001b[0m\u001b[0msession\u001b[0m\u001b[1;33m)\u001b[0m\u001b[1;33m\u001b[0m\u001b[0m\n\u001b[0m\u001b[0;32m   1612\u001b[0m         \u001b[1;32mif\u001b[0m \u001b[0ms\u001b[0m \u001b[1;32mand\u001b[0m \u001b[0mclose\u001b[0m\u001b[1;33m:\u001b[0m\u001b[1;33m\u001b[0m\u001b[0m\n\u001b[0;32m   1613\u001b[0m             \u001b[1;32mwith\u001b[0m \u001b[0ms\u001b[0m\u001b[1;33m:\u001b[0m\u001b[1;33m\u001b[0m\u001b[0m\n",
      "\u001b[1;32m~\\Anaconda3\\envs\\learn-env\\lib\\site-packages\\pymongo\\mongo_client.py\u001b[0m in \u001b[0;36m_ensure_session\u001b[1;34m(self, session)\u001b[0m\n\u001b[0;32m   1596\u001b[0m             \u001b[1;31m# Don't make implicit sessions causally consistent. Applications\u001b[0m\u001b[1;33m\u001b[0m\u001b[1;33m\u001b[0m\u001b[0m\n\u001b[0;32m   1597\u001b[0m             \u001b[1;31m# should always opt-in.\u001b[0m\u001b[1;33m\u001b[0m\u001b[1;33m\u001b[0m\u001b[0m\n\u001b[1;32m-> 1598\u001b[1;33m             \u001b[1;32mreturn\u001b[0m \u001b[0mself\u001b[0m\u001b[1;33m.\u001b[0m\u001b[0m__start_session\u001b[0m\u001b[1;33m(\u001b[0m\u001b[1;32mTrue\u001b[0m\u001b[1;33m,\u001b[0m \u001b[0mcausal_consistency\u001b[0m\u001b[1;33m=\u001b[0m\u001b[1;32mFalse\u001b[0m\u001b[1;33m)\u001b[0m\u001b[1;33m\u001b[0m\u001b[0m\n\u001b[0m\u001b[0;32m   1599\u001b[0m         \u001b[1;32mexcept\u001b[0m \u001b[1;33m(\u001b[0m\u001b[0mConfigurationError\u001b[0m\u001b[1;33m,\u001b[0m \u001b[0mInvalidOperation\u001b[0m\u001b[1;33m)\u001b[0m\u001b[1;33m:\u001b[0m\u001b[1;33m\u001b[0m\u001b[0m\n\u001b[0;32m   1600\u001b[0m             \u001b[1;31m# Sessions not supported, or multiple users authenticated.\u001b[0m\u001b[1;33m\u001b[0m\u001b[1;33m\u001b[0m\u001b[0m\n",
      "\u001b[1;32m~\\Anaconda3\\envs\\learn-env\\lib\\site-packages\\pymongo\\mongo_client.py\u001b[0m in \u001b[0;36m__start_session\u001b[1;34m(self, implicit, **kwargs)\u001b[0m\n\u001b[0;32m   1549\u001b[0m \u001b[1;33m\u001b[0m\u001b[0m\n\u001b[0;32m   1550\u001b[0m         \u001b[1;31m# Raises ConfigurationError if sessions are not supported.\u001b[0m\u001b[1;33m\u001b[0m\u001b[1;33m\u001b[0m\u001b[0m\n\u001b[1;32m-> 1551\u001b[1;33m         \u001b[0mserver_session\u001b[0m \u001b[1;33m=\u001b[0m \u001b[0mself\u001b[0m\u001b[1;33m.\u001b[0m\u001b[0m_get_server_session\u001b[0m\u001b[1;33m(\u001b[0m\u001b[1;33m)\u001b[0m\u001b[1;33m\u001b[0m\u001b[0m\n\u001b[0m\u001b[0;32m   1552\u001b[0m         \u001b[0mopts\u001b[0m \u001b[1;33m=\u001b[0m \u001b[0mclient_session\u001b[0m\u001b[1;33m.\u001b[0m\u001b[0mSessionOptions\u001b[0m\u001b[1;33m(\u001b[0m\u001b[1;33m**\u001b[0m\u001b[0mkwargs\u001b[0m\u001b[1;33m)\u001b[0m\u001b[1;33m\u001b[0m\u001b[0m\n\u001b[0;32m   1553\u001b[0m         return client_session.ClientSession(\n",
      "\u001b[1;32m~\\Anaconda3\\envs\\learn-env\\lib\\site-packages\\pymongo\\mongo_client.py\u001b[0m in \u001b[0;36m_get_server_session\u001b[1;34m(self)\u001b[0m\n\u001b[0;32m   1582\u001b[0m     \u001b[1;32mdef\u001b[0m \u001b[0m_get_server_session\u001b[0m\u001b[1;33m(\u001b[0m\u001b[0mself\u001b[0m\u001b[1;33m)\u001b[0m\u001b[1;33m:\u001b[0m\u001b[1;33m\u001b[0m\u001b[0m\n\u001b[0;32m   1583\u001b[0m         \u001b[1;34m\"\"\"Internal: start or resume a _ServerSession.\"\"\"\u001b[0m\u001b[1;33m\u001b[0m\u001b[0m\n\u001b[1;32m-> 1584\u001b[1;33m         \u001b[1;32mreturn\u001b[0m \u001b[0mself\u001b[0m\u001b[1;33m.\u001b[0m\u001b[0m_topology\u001b[0m\u001b[1;33m.\u001b[0m\u001b[0mget_server_session\u001b[0m\u001b[1;33m(\u001b[0m\u001b[1;33m)\u001b[0m\u001b[1;33m\u001b[0m\u001b[0m\n\u001b[0m\u001b[0;32m   1585\u001b[0m \u001b[1;33m\u001b[0m\u001b[0m\n\u001b[0;32m   1586\u001b[0m     \u001b[1;32mdef\u001b[0m \u001b[0m_return_server_session\u001b[0m\u001b[1;33m(\u001b[0m\u001b[0mself\u001b[0m\u001b[1;33m,\u001b[0m \u001b[0mserver_session\u001b[0m\u001b[1;33m,\u001b[0m \u001b[0mlock\u001b[0m\u001b[1;33m)\u001b[0m\u001b[1;33m:\u001b[0m\u001b[1;33m\u001b[0m\u001b[0m\n",
      "\u001b[1;32m~\\Anaconda3\\envs\\learn-env\\lib\\site-packages\\pymongo\\topology.py\u001b[0m in \u001b[0;36mget_server_session\u001b[1;34m(self)\u001b[0m\n\u001b[0;32m    427\u001b[0m                             \u001b[0many_server_selector\u001b[0m\u001b[1;33m,\u001b[0m\u001b[1;33m\u001b[0m\u001b[0m\n\u001b[0;32m    428\u001b[0m                             \u001b[0mself\u001b[0m\u001b[1;33m.\u001b[0m\u001b[0m_settings\u001b[0m\u001b[1;33m.\u001b[0m\u001b[0mserver_selection_timeout\u001b[0m\u001b[1;33m,\u001b[0m\u001b[1;33m\u001b[0m\u001b[0m\n\u001b[1;32m--> 429\u001b[1;33m                             None)\n\u001b[0m\u001b[0;32m    430\u001b[0m                 \u001b[1;32melif\u001b[0m \u001b[1;32mnot\u001b[0m \u001b[0mself\u001b[0m\u001b[1;33m.\u001b[0m\u001b[0m_description\u001b[0m\u001b[1;33m.\u001b[0m\u001b[0mreadable_servers\u001b[0m\u001b[1;33m:\u001b[0m\u001b[1;33m\u001b[0m\u001b[0m\n\u001b[0;32m    431\u001b[0m                     self._select_servers_loop(\n",
      "\u001b[1;32m~\\Anaconda3\\envs\\learn-env\\lib\\site-packages\\pymongo\\topology.py\u001b[0m in \u001b[0;36m_select_servers_loop\u001b[1;34m(self, selector, timeout, address)\u001b[0m\n\u001b[0;32m    198\u001b[0m             \u001b[1;32mif\u001b[0m \u001b[0mtimeout\u001b[0m \u001b[1;33m==\u001b[0m \u001b[1;36m0\u001b[0m \u001b[1;32mor\u001b[0m \u001b[0mnow\u001b[0m \u001b[1;33m>\u001b[0m \u001b[0mend_time\u001b[0m\u001b[1;33m:\u001b[0m\u001b[1;33m\u001b[0m\u001b[0m\n\u001b[0;32m    199\u001b[0m                 raise ServerSelectionTimeoutError(\n\u001b[1;32m--> 200\u001b[1;33m                     self._error_message(selector))\n\u001b[0m\u001b[0;32m    201\u001b[0m \u001b[1;33m\u001b[0m\u001b[0m\n\u001b[0;32m    202\u001b[0m             \u001b[0mself\u001b[0m\u001b[1;33m.\u001b[0m\u001b[0m_ensure_opened\u001b[0m\u001b[1;33m(\u001b[0m\u001b[1;33m)\u001b[0m\u001b[1;33m\u001b[0m\u001b[0m\n",
      "\u001b[1;31mServerSelectionTimeoutError\u001b[0m: localhost:27017: [WinError 10061] No connection could be made because the target machine actively refused it"
     ]
    },
    {
     "data": {
      "image/png": "[encoded data removed]",
      "text/plain": [
       "<Figure size 432x288 with 1 Axes>"
      ]
     },
     "metadata": {
      "needs_background": "light"
     },
     "output_type": "display_data"
    }
   ],
   "source": [
    "db = MongodbHandler()\n",
    "\n",
    "\n",
    "for team_name, data in teams_data.items():\n",
    "    if data['rain_wins_2011'] == 0 and data['rain_losses_2011'] == 0:\n",
    "        rain_win_pct = \"N/A\"\n",
    "    else:\n",
    "        total_rain_games = data['rain_wins_2011'] + data['rain_losses_2011']\n",
    "        rain_win_pct = str(data['rain_wins_2011'] / total_rain_games)\n",
    "    \n",
    "    viz = get_hist(data)\n",
    "    \n",
    "    record = db.format_data(team_name, data['total_goals_2011'], data['total_wins_2011'], viz, rain_win_pct)\n",
    "    db.insert_record(record)\n",
    "    \n",
    "    del(viz)"
   ]
  },
  {
   "cell_type": "markdown",
   "metadata": {},
   "source": [
    "# Summary\n",
    "\n",
    "In this lab, we dug deep and used everything we've learned so far about python programming, databases, HTTP requests and API calls to ETL data from a SQL database into a MongoDB instance!"
   ]
  }
 ],
 "metadata": {
  "kernelspec": {
   "display_name": "Python 3",
   "language": "python",
   "name": "python3"
  },
  "language_info": {
   "codemirror_mode": {
    "name": "ipython",
    "version": 3
   },
   "file_extension": ".py",
   "mimetype": "text/x-python",
   "name": "python",
   "nbconvert_exporter": "python",
   "pygments_lexer": "ipython3",
   "version": "3.6.6"
  }
 },
 "nbformat": 4,
 "nbformat_minor": 2
}
